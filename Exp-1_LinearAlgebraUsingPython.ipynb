{
  "nbformat": 4,
  "nbformat_minor": 0,
  "metadata": {
    "colab": {
      "name": "ML Lab Assignment-1.ipynb",
      "provenance": [],
      "collapsed_sections": [],
      "toc_visible": true,
      "include_colab_link": true
    },
    "kernelspec": {
      "name": "python3",
      "display_name": "Python 3"
    },
    "language_info": {
      "name": "python"
    }
  },
  "cells": [
    {
      "cell_type": "markdown",
      "metadata": {
        "id": "view-in-github",
        "colab_type": "text"
      },
      "source": [
        "<a href=\"https://colab.research.google.com/github/VineethaPolamada/ML-Laborartory/blob/main/Exp-1_LinearAlgebraUsingPython.ipynb\" target=\"_parent\"><img src=\"https://colab.research.google.com/assets/colab-badge.svg\" alt=\"Open In Colab\"/></a>"
      ]
    },
    {
      "cell_type": "code",
      "metadata": {
        "colab": {
          "base_uri": "https://localhost:8080/"
        },
        "id": "LnXJnEQWOksn",
        "outputId": "3ec3d041-547d-4813-fab8-6aafe80a9833"
      },
      "source": [
        "a=3\n",
        "b=12\n",
        "print(a+b*4) #math expression"
      ],
      "execution_count": null,
      "outputs": [
        {
          "output_type": "stream",
          "text": [
            "51\n"
          ],
          "name": "stdout"
        }
      ]
    },
    {
      "cell_type": "code",
      "metadata": {
        "colab": {
          "base_uri": "https://localhost:8080/"
        },
        "id": "HqQ63ddBOrOE",
        "outputId": "f62f86f1-0cf0-4909-a8b9-9e00ce37a941"
      },
      "source": [
        "a=15\n",
        "print(a*a) #multiplication\n",
        "print(a**a) #power"
      ],
      "execution_count": null,
      "outputs": [
        {
          "output_type": "stream",
          "text": [
            "225\n",
            "437893890380859375\n"
          ],
          "name": "stdout"
        }
      ]
    },
    {
      "cell_type": "code",
      "metadata": {
        "colab": {
          "base_uri": "https://localhost:8080/"
        },
        "id": "8dsZuX2VOt5z",
        "outputId": "1761fe21-e48c-4cf3-dfd7-c29406bcab75"
      },
      "source": [
        "greeting='Hello, My name is'\n",
        "name=' Vineetha'\n",
        "age=19\n",
        "print(greeting+name)\n",
        "print('I am '+str(age)+' years old') #string concatenation"
      ],
      "execution_count": null,
      "outputs": [
        {
          "output_type": "stream",
          "text": [
            "Hello, My name is Vineetha\n",
            "I am 19 years old\n"
          ],
          "name": "stdout"
        }
      ]
    },
    {
      "cell_type": "code",
      "metadata": {
        "colab": {
          "base_uri": "https://localhost:8080/"
        },
        "id": "O3jfBm3fOv-H",
        "outputId": "2c6a0f3e-b545-43da-e75b-9d1b2ec490a0"
      },
      "source": [
        "name='Vineetha'\n",
        "age=19\n",
        "age6=age+6\n",
        "print('My name is '+name+'. I am now '+str(age)+' years old,\\\n",
        "and in 6 years I\\'ll be '+str(age6)+' years old.')\n",
        "\n",
        " #string concatenation and type conversion"
      ],
      "execution_count": null,
      "outputs": [
        {
          "output_type": "stream",
          "text": [
            "My name is Vineetha. I am now 19 years old,and in 6 years I'll be 25 years old.\n"
          ],
          "name": "stdout"
        }
      ]
    },
    {
      "cell_type": "code",
      "metadata": {
        "colab": {
          "base_uri": "https://localhost:8080/"
        },
        "id": "CSHTAqU_OyGL",
        "outputId": "c30b3e5b-5eed-492f-99c0-b67c77362616"
      },
      "source": [
        "numlist=[1,2,3,4] #python list\n",
        "numlist"
      ],
      "execution_count": null,
      "outputs": [
        {
          "output_type": "execute_result",
          "data": {
            "text/plain": [
              "[1, 2, 3, 4]"
            ]
          },
          "metadata": {},
          "execution_count": 54
        }
      ]
    },
    {
      "cell_type": "code",
      "metadata": {
        "colab": {
          "base_uri": "https://localhost:8080/"
        },
        "id": "WJemHqNyO4C9",
        "outputId": "1d653bdb-b1e8-463f-82b0-5c97f4acb919"
      },
      "source": [
        "import numpy as np\n",
        "\n",
        "print(np.mean(numlist))\n",
        "np.sqrt(4)\n",
        "#avg, sqrt of a number"
      ],
      "execution_count": null,
      "outputs": [
        {
          "output_type": "stream",
          "text": [
            "2.5\n"
          ],
          "name": "stdout"
        },
        {
          "output_type": "execute_result",
          "data": {
            "text/plain": [
              "2.0"
            ]
          },
          "metadata": {},
          "execution_count": 55
        }
      ]
    },
    {
      "cell_type": "code",
      "metadata": {
        "colab": {
          "base_uri": "https://localhost:8080/"
        },
        "id": "hd6IWKI1O6vW",
        "outputId": "8976a6e6-0a17-4d27-bfe3-c538c0379875"
      },
      "source": [
        "funout=np.linspace(1,10,5)\n",
        "print(funout)\n",
        "funout+2"
      ],
      "execution_count": null,
      "outputs": [
        {
          "output_type": "stream",
          "text": [
            "[ 1.    3.25  5.5   7.75 10.  ]\n"
          ],
          "name": "stdout"
        },
        {
          "output_type": "execute_result",
          "data": {
            "text/plain": [
              "array([ 3.  ,  5.25,  7.5 ,  9.75, 12.  ])"
            ]
          },
          "metadata": {},
          "execution_count": 56
        }
      ]
    },
    {
      "cell_type": "code",
      "metadata": {
        "colab": {
          "base_uri": "https://localhost:8080/"
        },
        "id": "H_8Pb-lHPUHq",
        "outputId": "a3687574-478c-496c-bc0c-9e7433060997"
      },
      "source": [
        "list1=np.linspace(4,500,15) #15 integers in between 4 and 500 \n",
        "\n",
        "print(list1)"
      ],
      "execution_count": null,
      "outputs": [
        {
          "output_type": "stream",
          "text": [
            "[  4.          39.42857143  74.85714286 110.28571429 145.71428571\n",
            " 181.14285714 216.57142857 252.         287.42857143 322.85714286\n",
            " 358.28571429 393.71428571 429.14285714 464.57142857 500.        ]\n"
          ],
          "name": "stdout"
        }
      ]
    },
    {
      "cell_type": "code",
      "metadata": {
        "colab": {
          "base_uri": "https://localhost:8080/"
        },
        "id": "hwiFsQ37P-RO",
        "outputId": "ab903aa1-3598-4bb0-a7fe-51fafba0cb8f"
      },
      "source": [
        "for i in list1: #rounding off the numbers to the nearest integers\n",
        "  print(np.round(i))"
      ],
      "execution_count": null,
      "outputs": [
        {
          "output_type": "stream",
          "text": [
            "4.0\n",
            "39.0\n",
            "75.0\n",
            "110.0\n",
            "146.0\n",
            "181.0\n",
            "217.0\n",
            "252.0\n",
            "287.0\n",
            "323.0\n",
            "358.0\n",
            "394.0\n",
            "429.0\n",
            "465.0\n",
            "500.0\n"
          ],
          "name": "stdout"
        }
      ]
    },
    {
      "cell_type": "code",
      "metadata": {
        "colab": {
          "base_uri": "https://localhost:8080/"
        },
        "id": "ZEafoEvAQj0g",
        "outputId": "883427c6-71a6-4ffd-a27f-99608939ee27"
      },
      "source": [
        "for i in list1: #sqrt of the rounded off numbers\n",
        "  print(np.sqrt(i))"
      ],
      "execution_count": null,
      "outputs": [
        {
          "output_type": "stream",
          "text": [
            "2.0\n",
            "6.279217421667403\n",
            "8.652002245558126\n",
            "10.501700542565203\n",
            "12.071217242444348\n",
            "13.45893224378729\n",
            "14.716366011058184\n",
            "15.874507866387544\n",
            "16.953718513310626\n",
            "17.968225924034428\n",
            "18.928436657202155\n",
            "19.842234897165334\n",
            "20.71576349408482\n",
            "21.55391910004834\n",
            "22.360679774997898\n"
          ],
          "name": "stdout"
        }
      ]
    },
    {
      "cell_type": "code",
      "metadata": {
        "id": "GUoFzhsZQmB8"
      },
      "source": [
        "import numpy as np\n",
        "import matplotlib.pyplot as plt"
      ],
      "execution_count": null,
      "outputs": []
    },
    {
      "cell_type": "code",
      "metadata": {
        "colab": {
          "base_uri": "https://localhost:8080/",
          "height": 265
        },
        "id": "eT19GLxLSFs3",
        "outputId": "c2551155-14c7-4da2-fab5-3ff43210e9f2"
      },
      "source": [
        "plt.plot(1,3,'ro')\n",
        "plt.show()"
      ],
      "execution_count": null,
      "outputs": [
        {
          "output_type": "display_data",
          "data": {
            "image/png": "[encoded data removed]",
            "text/plain": [
              "<Figure size 432x288 with 1 Axes>"
            ]
          },
          "metadata": {
            "needs_background": "light"
          }
        }
      ]
    },
    {
      "cell_type": "code",
      "metadata": {
        "colab": {
          "base_uri": "https://localhost:8080/",
          "height": 283
        },
        "id": "yQD90zjGShyo",
        "outputId": "d518b58d-c72a-4b02-c457-8f6ca532ce26"
      },
      "source": [
        "x=np.arange(-9,10)\n",
        "print(x)\n",
        "\n",
        "y=x**2\n",
        "\n",
        "plt.plot(x,y,'r') \n",
        "plt.plot(x,y/2,'go')\n",
        "plt.show()\n",
        "\n",
        "#plotting a graph using different elements"
      ],
      "execution_count": null,
      "outputs": [
        {
          "output_type": "stream",
          "text": [
            "[-9 -8 -7 -6 -5 -4 -3 -2 -1  0  1  2  3  4  5  6  7  8  9]\n"
          ],
          "name": "stdout"
        },
        {
          "output_type": "display_data",
          "data": {
            "image/png": "[encoded data removed]",
            "text/plain": [
              "<Figure size 432x288 with 1 Axes>"
            ]
          },
          "metadata": {
            "needs_background": "light"
          }
        }
      ]
    },
    {
      "cell_type": "code",
      "metadata": {
        "colab": {
          "base_uri": "https://localhost:8080/",
          "height": 265
        },
        "id": "Xk738xclTO2e",
        "outputId": "7d1e4be3-527d-49c3-bb7b-4690ee680f76"
      },
      "source": [
        "plt.plot([0,3],[-4,4],label='first line')\n",
        "plt.plot([-2,0],[-3,5], label='second line')\n",
        "plt.legend()\n",
        "plt.show()\n",
        "\n",
        "#plotting lines by making use of the legend function"
      ],
      "execution_count": null,
      "outputs": [
        {
          "output_type": "display_data",
          "data": {
            "image/png": "[encoded data removed]",
            "text/plain": [
              "<Figure size 432x288 with 1 Axes>"
            ]
          },
          "metadata": {
            "needs_background": "light"
          }
        }
      ]
    },
    {
      "cell_type": "code",
      "metadata": {
        "colab": {
          "base_uri": "https://localhost:8080/"
        },
        "id": "g92ReIkrTSmn",
        "outputId": "a36fa44a-e2ef-4e17-d4be-c109b06a01c4"
      },
      "source": [
        "M = np.random.randint(0,10,size=(4,5))\n",
        "M\n",
        "#matrix creation using random function"
      ],
      "execution_count": null,
      "outputs": [
        {
          "output_type": "execute_result",
          "data": {
            "text/plain": [
              "array([[6, 8, 0, 4, 9],\n",
              "       [2, 7, 7, 9, 6],\n",
              "       [2, 2, 0, 6, 1],\n",
              "       [2, 2, 9, 0, 3]])"
            ]
          },
          "metadata": {},
          "execution_count": 141
        }
      ]
    },
    {
      "cell_type": "code",
      "metadata": {
        "colab": {
          "base_uri": "https://localhost:8080/",
          "height": 287
        },
        "id": "Dm7d3Qq8UJZn",
        "outputId": "13e8b90a-7850-4823-d7c5-2b998edc50d4"
      },
      "source": [
        "plt.imshow(M)\n"
      ],
      "execution_count": null,
      "outputs": [
        {
          "output_type": "execute_result",
          "data": {
            "text/plain": [
              "<matplotlib.image.AxesImage at 0x7f5ac3871190>"
            ]
          },
          "metadata": {},
          "execution_count": 36
        },
        {
          "output_type": "display_data",
          "data": {
            "image/png": "[encoded data removed]",
            "text/plain": [
              "<Figure size 432x288 with 1 Axes>"
            ]
          },
          "metadata": {
            "needs_background": "light"
          }
        }
      ]
    },
    {
      "cell_type": "code",
      "metadata": {
        "colab": {
          "base_uri": "https://localhost:8080/",
          "height": 283
        },
        "id": "n0giFSQhU4PW",
        "outputId": "6bbad1eb-4351-42b8-b7e1-db0a785911cb"
      },
      "source": [
        "plt.imshow(M)\n",
        "plt.plot([-0.5,4.5])\n",
        "plt.plot([3.5,0.5])"
      ],
      "execution_count": null,
      "outputs": [
        {
          "output_type": "execute_result",
          "data": {
            "text/plain": [
              "[<matplotlib.lines.Line2D at 0x7f5ac2b59110>]"
            ]
          },
          "metadata": {},
          "execution_count": 91
        },
        {
          "output_type": "display_data",
          "data": {
            "image/png": "[encoded data removed]",
            "text/plain": [
              "<Figure size 432x288 with 1 Axes>"
            ]
          },
          "metadata": {
            "needs_background": "light"
          }
        }
      ]
    },
    {
      "cell_type": "code",
      "metadata": {
        "colab": {
          "base_uri": "https://localhost:8080/"
        },
        "id": "t1PpXuiiWTkM",
        "outputId": "e7c27d87-6eb5-4196-a002-768e7f0a67ef"
      },
      "source": [
        "vec=np.array([3,4,5,2])\n",
        "s=2\n",
        "\n",
        "vec*s\n",
        "#scalar multiplication of vectors"
      ],
      "execution_count": null,
      "outputs": [
        {
          "output_type": "execute_result",
          "data": {
            "text/plain": [
              "array([ 6,  8, 10,  4])"
            ]
          },
          "metadata": {},
          "execution_count": 64
        }
      ]
    },
    {
      "cell_type": "code",
      "metadata": {
        "id": "aSom3NHMW1WO"
      },
      "source": [
        "vec2d =np.array([2,4])\n",
        "s1=2\n",
        "s2=.5\n",
        "s3=-1\n",
        "#scalar multiplication of vectors"
      ],
      "execution_count": null,
      "outputs": []
    },
    {
      "cell_type": "code",
      "metadata": {
        "colab": {
          "base_uri": "https://localhost:8080/",
          "height": 283
        },
        "id": "cqsP2ayIWWbY",
        "outputId": "f01776b8-0e08-4189-c54f-4d276bc453f2"
      },
      "source": [
        "plt.plot([0,vec2d[0]],[0,vec2d[1]],'bs--')"
      ],
      "execution_count": null,
      "outputs": [
        {
          "output_type": "execute_result",
          "data": {
            "text/plain": [
              "[<matplotlib.lines.Line2D at 0x7f5ac3be5f50>]"
            ]
          },
          "metadata": {},
          "execution_count": 81
        },
        {
          "output_type": "display_data",
          "data": {
            "image/png": "[encoded data removed]",
            "text/plain": [
              "<Figure size 432x288 with 1 Axes>"
            ]
          },
          "metadata": {
            "needs_background": "light"
          }
        }
      ]
    },
    {
      "cell_type": "code",
      "metadata": {
        "colab": {
          "base_uri": "https://localhost:8080/",
          "height": 269
        },
        "id": "WIKPZ570WWpy",
        "outputId": "df2d9b6c-a17b-4c2c-fab5-77f641544459"
      },
      "source": [
        "plt.plot([0,vec2d[0]],[0,vec2d[1]],'gp--',label='v')\n",
        "plt.plot([0,s1*vec2d[0]],[0,s1*vec2d[1]],'r--',label='v*s1')\n",
        "plt.plot([0,s2*vec2d[0]],[0,s2*vec2d[1]],'bs',label='v*s2')\n",
        "plt.plot([0,s3*vec2d[0]],[0,s3*vec2d[1]],'g-',label='v*s3')\n",
        "\n",
        "plt.axis('square')\n",
        "plt.xlim([-8,10])\n",
        "plt.ylim([-8,10])\n",
        "plt.grid()\n",
        "plt.legend()\n",
        "plt.show()"
      ],
      "execution_count": null,
      "outputs": [
        {
          "output_type": "display_data",
          "data": {
            "image/png": "[encoded data removed]",
            "text/plain": [
              "<Figure size 432x288 with 1 Axes>"
            ]
          },
          "metadata": {
            "needs_background": "light"
          }
        }
      ]
    },
    {
      "cell_type": "code",
      "metadata": {
        "colab": {
          "base_uri": "https://localhost:8080/",
          "height": 1000
        },
        "id": "4PQ5Is7RWW1B",
        "outputId": "34409873-4c24-4f9e-b2c1-fb1d5875698e"
      },
      "source": [
        "vec1 =np.array([2,4])\n",
        "vec2 =np.array([3,6])\n",
        "\n",
        "plt.plot([0,vec1[0]],[0,vec1[1]],'bs-',label='vector 1')\n",
        "plt.legend()\n",
        "plt.show()\n",
        "plt.plot([0,vec2[0]],[0,vec2[1]],'gs-',label='vector 2')\n",
        "plt.legend()\n",
        "plt.show()\n",
        "#v1+v2\n",
        "plt.plot([vec1[0],(vec1[0]+vec2[0])],[vec2[0],(vec1[1]+vec2[1])],'rp--',label='v1+v2')\n",
        "plt.legend()\n",
        "plt.show()\n",
        "#v1-v2\n",
        "plt.plot([vec1[0],(vec1[0]-vec2[0])],[vec2[0],(vec1[1]-vec2[1])],'bp--',label='v1-v2')\n",
        "plt.legend()\n",
        "plt.show()\n",
        "#v1*4\n",
        "plt.plot([vec1[0],(vec1[0]*4)],[vec1[1],(vec1[1]*4)],'gp--',label='v1*4')\n",
        "plt.legend()\n",
        "plt.show()\n",
        "#v2/2\n",
        "plt.plot([vec2[0],(vec2[0]/2)],[vec2[1],(vec2[1]/2)],'yp--',label='v2/2')\n",
        "plt.legend()\n",
        "plt.show()"
      ],
      "execution_count": null,
      "outputs": [
        {
          "output_type": "display_data",
          "data": {
            "image/png": "[encoded data removed]",
            "text/plain": [
              "<Figure size 432x288 with 1 Axes>"
            ]
          },
          "metadata": {
            "needs_background": "light"
          }
        },
        {
          "output_type": "display_data",
          "data": {
            "image/png": "[encoded data removed]",
            "text/plain": [
              "<Figure size 432x288 with 1 Axes>"
            ]
          },
          "metadata": {
            "needs_background": "light"
          }
        },
        {
          "output_type": "display_data",
          "data": {
            "image/png": "[encoded data removed]",
            "text/plain": [
              "<Figure size 432x288 with 1 Axes>"
            ]
          },
          "metadata": {
            "needs_background": "light"
          }
        },
        {
          "output_type": "display_data",
          "data": {
            "image/png": "[encoded data removed]",
            "text/plain": [
              "<Figure size 432x288 with 1 Axes>"
            ]
          },
          "metadata": {
            "needs_background": "light"
          }
        },
        {
          "output_type": "display_data",
          "data": {
            "image/png": "[encoded data removed]",
            "text/plain": [
              "<Figure size 432x288 with 1 Axes>"
            ]
          },
          "metadata": {
            "needs_background": "light"
          }
        },
        {
          "output_type": "display_data",
          "data": {
            "image/png": "[encoded data removed]",
            "text/plain": [
              "<Figure size 432x288 with 1 Axes>"
            ]
          },
          "metadata": {
            "needs_background": "light"
          }
        }
      ]
    },
    {
      "cell_type": "code",
      "metadata": {
        "id": "7RQKtT__hcqo",
        "colab": {
          "base_uri": "https://localhost:8080/"
        },
        "outputId": "71451254-d1d3-4ede-edba-5710eea92864"
      },
      "source": [
        "v1=np.array([5,6,2])\n",
        "v2=np.array([3,0,5])\n",
        "\n",
        "np.dot(v1,v2) \n",
        "#dot product of vectors"
      ],
      "execution_count": null,
      "outputs": [
        {
          "output_type": "execute_result",
          "data": {
            "text/plain": [
              "25"
            ]
          },
          "metadata": {},
          "execution_count": 122
        }
      ]
    },
    {
      "cell_type": "code",
      "metadata": {
        "colab": {
          "base_uri": "https://localhost:8080/"
        },
        "id": "Bli9mLZP9cPG",
        "outputId": "e906b31c-83ba-4462-b7bb-1c58a3c60821"
      },
      "source": [
        "v3=np.array([-4,3,1])\n",
        "np.dot(v2,v3)\n",
        "#dot product of vectors"
      ],
      "execution_count": null,
      "outputs": [
        {
          "output_type": "execute_result",
          "data": {
            "text/plain": [
              "-7"
            ]
          },
          "metadata": {},
          "execution_count": 137
        }
      ]
    },
    {
      "cell_type": "code",
      "metadata": {
        "colab": {
          "base_uri": "https://localhost:8080/"
        },
        "id": "LRXosrDQ9-eg",
        "outputId": "2d20f30c-e436-4c03-c0f7-e53c785a9708"
      },
      "source": [
        "v4=np.array([0,0,0])\n",
        "np.dot(v3,v4)\n",
        "#dot product of vectors"
      ],
      "execution_count": null,
      "outputs": [
        {
          "output_type": "execute_result",
          "data": {
            "text/plain": [
              "0"
            ]
          },
          "metadata": {},
          "execution_count": 138
        }
      ]
    },
    {
      "cell_type": "code",
      "metadata": {
        "colab": {
          "base_uri": "https://localhost:8080/"
        },
        "id": "8R5A0DTr-F5o",
        "outputId": "eee334cf-ebb7-43aa-9ed2-dd368afd8a4d"
      },
      "source": [
        "v5=np.array([2,3,-1])\n",
        "np.dot(v3,v5)\n",
        "#orthogonal vectors"
      ],
      "execution_count": null,
      "outputs": [
        {
          "output_type": "execute_result",
          "data": {
            "text/plain": [
              "0"
            ]
          },
          "metadata": {},
          "execution_count": 140
        }
      ]
    },
    {
      "cell_type": "code",
      "metadata": {
        "colab": {
          "base_uri": "https://localhost:8080/"
        },
        "id": "SUiQZTlwFEAh",
        "outputId": "d28c4fbe-cd85-4b82-c0c7-e1ee5ba5a2de"
      },
      "source": [
        "np.eye(3) #identity matrix"
      ],
      "execution_count": null,
      "outputs": [
        {
          "output_type": "execute_result",
          "data": {
            "text/plain": [
              "array([[1., 0., 0.],\n",
              "       [0., 1., 0.],\n",
              "       [0., 0., 1.]])"
            ]
          },
          "metadata": {},
          "execution_count": 143
        }
      ]
    },
    {
      "cell_type": "code",
      "metadata": {
        "colab": {
          "base_uri": "https://localhost:8080/"
        },
        "id": "fy-rWB5gHPLc",
        "outputId": "823daf75-e6d4-487f-88f7-5babc8718bf3"
      },
      "source": [
        "np.zeros((3,4)) #zero matrix"
      ],
      "execution_count": null,
      "outputs": [
        {
          "output_type": "execute_result",
          "data": {
            "text/plain": [
              "array([[0., 0., 0., 0.],\n",
              "       [0., 0., 0., 0.],\n",
              "       [0., 0., 0., 0.]])"
            ]
          },
          "metadata": {},
          "execution_count": 145
        }
      ]
    },
    {
      "cell_type": "code",
      "metadata": {
        "colab": {
          "base_uri": "https://localhost:8080/"
        },
        "id": "rgbto-oaHSS9",
        "outputId": "1d5f7799-0031-4bac-d6b0-e72336b8b8e4"
      },
      "source": [
        "np.full((5,2),4) #filling a praticular value "
      ],
      "execution_count": null,
      "outputs": [
        {
          "output_type": "execute_result",
          "data": {
            "text/plain": [
              "array([[4, 4],\n",
              "       [4, 4],\n",
              "       [4, 4],\n",
              "       [4, 4],\n",
              "       [4, 4]])"
            ]
          },
          "metadata": {},
          "execution_count": 147
        }
      ]
    },
    {
      "cell_type": "code",
      "metadata": {
        "colab": {
          "base_uri": "https://localhost:8080/"
        },
        "id": "B3pyruJdHYW1",
        "outputId": "b361c7fb-691a-44c5-b0a8-14c7354412dc"
      },
      "source": [
        "M1=np.array([[1,2,3],\n",
        "             [4,5,6],\n",
        "             [7,8,9]])\n",
        "\n",
        "#creation of a matrix\n",
        "print(M1)"
      ],
      "execution_count": null,
      "outputs": [
        {
          "output_type": "stream",
          "text": [
            "[[1 2 3]\n",
            " [4 5 6]\n",
            " [7 8 9]]\n"
          ],
          "name": "stdout"
        }
      ]
    },
    {
      "cell_type": "code",
      "metadata": {
        "colab": {
          "base_uri": "https://localhost:8080/"
        },
        "id": "rgT_nl8lHpIz",
        "outputId": "a5bf7362-aea3-4e63-8568-f50f36ec239a"
      },
      "source": [
        "v1=np.array([2,3,-1], ndmin=2) #transpose of a vector \n",
        "\n",
        "print(v1)\n",
        "print(' ')\n",
        "print(v1.T)"
      ],
      "execution_count": null,
      "outputs": [
        {
          "output_type": "stream",
          "text": [
            "[[ 2  3 -1]]\n",
            " \n",
            "[[ 2]\n",
            " [ 3]\n",
            " [-1]]\n"
          ],
          "name": "stdout"
        }
      ]
    },
    {
      "cell_type": "code",
      "metadata": {
        "colab": {
          "base_uri": "https://localhost:8080/"
        },
        "id": "35NprYSuII7j",
        "outputId": "e19579ab-9592-4161-a17a-01a9106fd0de"
      },
      "source": [
        "M= np.round(np.random.randn(3,3)) #creating a 3x3 matrix with random numbers\n",
        "\n",
        "print(M)\n",
        "print(' ')\n",
        "print(M.T)#transpose of a matrix\n",
        "print(' ')\n",
        "print(M.T)#transpose of a matrix again\n"
      ],
      "execution_count": null,
      "outputs": [
        {
          "output_type": "stream",
          "text": [
            "[[ 0.  0. -1.]\n",
            " [ 0.  0. -1.]\n",
            " [ 1.  1.  0.]]\n",
            " \n",
            "[[ 0.  0.  1.]\n",
            " [ 0.  0.  1.]\n",
            " [-1. -1.  0.]]\n",
            " \n",
            "[[ 0.  0.  1.]\n",
            " [ 0.  0.  1.]\n",
            " [-1. -1.  0.]]\n"
          ],
          "name": "stdout"
        }
      ]
    },
    {
      "cell_type": "code",
      "metadata": {
        "colab": {
          "base_uri": "https://localhost:8080/"
        },
        "id": "2Pu88EcYIh8R",
        "outputId": "2acf5055-515c-4032-a51a-74b6a1c61b5a"
      },
      "source": [
        "M2= np.random.randn(4,5) #4x5\n",
        "M3= np.random.randn(4,5) #4x5\n",
        "\n",
        "print(np.matmul(M2,M3.T)) #matrix multiplication\n",
        "print(' ')\n",
        "print(M2@M3.T)\n",
        "print(np.matmul(M2,M3.T) - M2@M3.T) #matrix subtraction"
      ],
      "execution_count": null,
      "outputs": [
        {
          "output_type": "stream",
          "text": [
            "[[-0.8818409  -1.00517977 -3.09696605 -2.04049282]\n",
            " [-4.51588378 -1.28141905 -4.00861426 -2.95346875]\n",
            " [-0.37198947  1.69843262  0.71393327  0.3065945 ]\n",
            " [-4.17531445  1.40476893  0.24448277 -1.16488251]]\n",
            " \n",
            "[[-0.8818409  -1.00517977 -3.09696605 -2.04049282]\n",
            " [-4.51588378 -1.28141905 -4.00861426 -2.95346875]\n",
            " [-0.37198947  1.69843262  0.71393327  0.3065945 ]\n",
            " [-4.17531445  1.40476893  0.24448277 -1.16488251]]\n",
            "[[0. 0. 0. 0.]\n",
            " [0. 0. 0. 0.]\n",
            " [0. 0. 0. 0.]\n",
            " [0. 0. 0. 0.]]\n"
          ],
          "name": "stdout"
        }
      ]
    },
    {
      "cell_type": "code",
      "metadata": {
        "colab": {
          "base_uri": "https://localhost:8080/"
        },
        "id": "zqAeErprLSi1",
        "outputId": "657a7d40-5efd-4d36-d837-d23c051806ea"
      },
      "source": [
        "A=np.random.randn(4,4)\n",
        "\n",
        "Ainv= np.linalg.inv(A) # inverse of a matrix\n",
        "AinvA=A@Ainv #axainv=identity \n",
        "\n",
        "print(A)\n",
        "print(' ')\n",
        "print(Ainv)\n",
        "print(' ')\n",
        "print(AinvA)"
      ],
      "execution_count": null,
      "outputs": [
        {
          "output_type": "stream",
          "text": [
            "[[ 0.39490212  0.43478725 -2.86160077 -0.55673936]\n",
            " [ 0.93218603 -0.04211493 -0.76839307 -0.45823829]\n",
            " [ 0.84760304  1.48900083 -0.56606622  2.2393059 ]\n",
            " [-1.47189075  1.19586142  0.14711781  0.31033049]]\n",
            " \n",
            "[[-0.30716002  1.03651639  0.13922941 -0.02517903]\n",
            " [-0.38008025  1.52404356  0.09052029  0.91536882]\n",
            " [-0.49694138  0.61771272 -0.03045355  0.24034898]\n",
            " [ 0.24337356 -1.24957929  0.32597834 -0.5383765 ]]\n",
            " \n",
            "[[ 1.00000000e+00  8.15705556e-18 -1.77075164e-17  6.72916072e-17]\n",
            " [ 3.46119711e-17  1.00000000e+00  2.95830300e-17 -4.12920010e-18]\n",
            " [ 2.24064192e-16 -2.43206743e-17  1.00000000e+00 -8.82395612e-17]\n",
            " [-3.15003748e-18 -1.74724097e-17 -1.48559748e-17  1.00000000e+00]]\n"
          ],
          "name": "stdout"
        }
      ]
    },
    {
      "cell_type": "code",
      "metadata": {
        "colab": {
          "base_uri": "https://localhost:8080/",
          "height": 166
        },
        "id": "VASwt2quMNC-",
        "outputId": "b5d5d2e4-fddd-4dfc-e829-474354aaee48"
      },
      "source": [
        "fig,ax=plt.subplots(1,3,figsize=(6,5)) # graphical representation of matrices\n",
        "\n",
        "\n",
        "ax[0].imshow(A)\n",
        "ax[0].set_title('A')\n",
        "\n",
        "ax[1].imshow(Ainv)\n",
        "ax[1].set_title('A$^{-1}$')\n",
        "\n",
        "ax[2].imshow(AinvA)\n",
        "ax[2].set_title('A X A$^{-1}$= Identity')\n",
        "\n",
        "plt.show() "
      ],
      "execution_count": null,
      "outputs": [
        {
          "output_type": "display_data",
          "data": {
            "image/png": "[encoded data removed]",
            "text/plain": [
              "<Figure size 432x360 with 3 Axes>"
            ]
          },
          "metadata": {
            "needs_background": "light"
          }
        }
      ]
    },
    {
      "cell_type": "code",
      "metadata": {
        "id": "fJzKYszKNEmz"
      },
      "source": [
        ""
      ],
      "execution_count": null,
      "outputs": []
    }
  ]
}